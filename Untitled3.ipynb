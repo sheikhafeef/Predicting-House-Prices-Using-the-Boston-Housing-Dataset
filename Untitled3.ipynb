{
  "nbformat": 4,
  "nbformat_minor": 0,
  "metadata": {
    "colab": {
      "provenance": []
    },
    "kernelspec": {
      "name": "python3",
      "display_name": "Python 3"
    },
    "language_info": {
      "name": "python"
    }
  },
  "cells": [
    {
      "cell_type": "code",
      "execution_count": 4,
      "metadata": {
        "colab": {
          "base_uri": "https://localhost:8080/"
        },
        "id": "ydTLzXTu_Kki",
        "outputId": "cf4c39fa-d2ed-4704-9fcb-c18e706d1cac"
      },
      "outputs": [
        {
          "output_type": "stream",
          "name": "stdout",
          "text": [
            "Requirement already satisfied: pandas in /usr/local/lib/python3.11/dist-packages (2.2.2)\n",
            "Requirement already satisfied: numpy in /usr/local/lib/python3.11/dist-packages (2.0.2)\n",
            "Requirement already satisfied: matplotlib in /usr/local/lib/python3.11/dist-packages (3.10.0)\n",
            "Requirement already satisfied: seaborn in /usr/local/lib/python3.11/dist-packages (0.13.2)\n",
            "Requirement already satisfied: python-dateutil>=2.8.2 in /usr/local/lib/python3.11/dist-packages (from pandas) (2.8.2)\n",
            "Requirement already satisfied: pytz>=2020.1 in /usr/local/lib/python3.11/dist-packages (from pandas) (2025.1)\n",
            "Requirement already satisfied: tzdata>=2022.7 in /usr/local/lib/python3.11/dist-packages (from pandas) (2025.1)\n",
            "Requirement already satisfied: contourpy>=1.0.1 in /usr/local/lib/python3.11/dist-packages (from matplotlib) (1.3.1)\n",
            "Requirement already satisfied: cycler>=0.10 in /usr/local/lib/python3.11/dist-packages (from matplotlib) (0.12.1)\n",
            "Requirement already satisfied: fonttools>=4.22.0 in /usr/local/lib/python3.11/dist-packages (from matplotlib) (4.56.0)\n",
            "Requirement already satisfied: kiwisolver>=1.3.1 in /usr/local/lib/python3.11/dist-packages (from matplotlib) (1.4.8)\n",
            "Requirement already satisfied: packaging>=20.0 in /usr/local/lib/python3.11/dist-packages (from matplotlib) (24.2)\n",
            "Requirement already satisfied: pillow>=8 in /usr/local/lib/python3.11/dist-packages (from matplotlib) (11.1.0)\n",
            "Requirement already satisfied: pyparsing>=2.3.1 in /usr/local/lib/python3.11/dist-packages (from matplotlib) (3.2.1)\n",
            "Requirement already satisfied: six>=1.5 in /usr/local/lib/python3.11/dist-packages (from python-dateutil>=2.8.2->pandas) (1.17.0)\n"
          ]
        }
      ],
      "source": [
        "pip install pandas numpy matplotlib seaborn"
      ]
    },
    {
      "cell_type": "code",
      "source": [
        "import pandas as pd\n",
        "import numpy as np\n",
        "import matplotlib.pyplot as plt\n",
        "import seaborn as sns\n",
        "from sklearn.model_selection import train_test_split\n",
        "from sklearn.metrics import mean_squared_error, r2_score"
      ],
      "metadata": {
        "id": "BiKS7zcF_MJc"
      },
      "execution_count": 5,
      "outputs": []
    },
    {
      "cell_type": "code",
      "source": [
        "# Load the Boston dataset\n",
        "boston = '/content/Boston (1).csv'\n",
        "data = pd.read_csv(boston)\n",
        "print(data.head())\n"
      ],
      "metadata": {
        "colab": {
          "base_uri": "https://localhost:8080/"
        },
        "id": "zwgmmBtR_Oy_",
        "outputId": "60b9b3b5-83a0-4a3c-909b-13aec2e18425"
      },
      "execution_count": 8,
      "outputs": [
        {
          "output_type": "stream",
          "name": "stdout",
          "text": [
            "      CRIM    ZN  INDUS  CHAS     NX     RM   AGE     DIS  RAD    TAX  \\\n",
            "0  0.00632  18.0   2.31     0  0.538  6.575  65.2  4.0900    1  296.0   \n",
            "1  0.02731   0.0   7.07     0  0.469  6.421  78.9  4.9671    2  242.0   \n",
            "2  0.02729   0.0   7.07     0  0.469  7.185  61.1  4.9671    2  242.0   \n",
            "3  0.03237   0.0   2.18     0  0.458  6.998  45.8  6.0622    3  222.0   \n",
            "4  0.06905   0.0   2.18     0  0.458  7.147  54.2  6.0622    3  222.0   \n",
            "\n",
            "   PTRATIO       B  LSTAT  MEDV  \n",
            "0     15.3  396.90   4.98  24.0  \n",
            "1     17.8  396.90   9.14  21.6  \n",
            "2     17.8  392.83   4.03  34.7  \n",
            "3     18.7  394.63   2.94  33.4  \n",
            "4     18.7  396.90   5.33  36.2  \n"
          ]
        }
      ]
    },
    {
      "cell_type": "code",
      "source": [
        "data = data.dropna()\n"
      ],
      "metadata": {
        "id": "vrcI0OqcAwk0"
      },
      "execution_count": 9,
      "outputs": []
    },
    {
      "cell_type": "code",
      "source": [
        "from sklearn.preprocessing import MinMaxScaler\n",
        "\n",
        "scaler = MinMaxScaler()\n",
        "data[data.columns] = scaler.fit_transform(data[data.columns])\n"
      ],
      "metadata": {
        "id": "16jEL1rsBUzE"
      },
      "execution_count": 10,
      "outputs": []
    },
    {
      "cell_type": "code",
      "source": [
        "X = data.drop('MEDV', axis=1)  # 'medv' is the target column (house price)\n",
        "y = data['MEDV']\n",
        "\n",
        "from sklearn.model_selection import train_test_split\n",
        "\n",
        "X_train, X_test, y_train, y_test = train_test_split(\n",
        "    X, y, test_size=0.2, random_state=42\n",
        ")\n"
      ],
      "metadata": {
        "id": "34vj8B2UBXvB"
      },
      "execution_count": 12,
      "outputs": []
    },
    {
      "cell_type": "code",
      "source": [
        "import numpy as np\n",
        "\n",
        "class LinearRegressionScratch:\n",
        "    def __init__(self, learning_rate=0.01, n_iters=1000):\n",
        "        self.lr = learning_rate\n",
        "        self.n_iters = n_iters\n",
        "        self.weights = None\n",
        "        self.bias = None\n",
        "\n",
        "    def fit(self, X, y):\n",
        "        n_samples, n_features = X.shape\n",
        "        self.weights = np.zeros(n_features)\n",
        "        self.bias = 0\n",
        "\n",
        "        for _ in range(self.n_iters):\n",
        "            y_pred = np.dot(X, self.weights) + self.bias\n",
        "            dw = (1 / n_samples) * np.dot(X.T, (y_pred - y))\n",
        "            db = (1 / n_samples) * np.sum(y_pred - y)\n",
        "\n",
        "            self.weights -= self.lr * dw\n",
        "            self.bias -= self.lr * db\n",
        "\n",
        "    def predict(self, X):\n",
        "        return np.dot(X, self.weights) + self.bias\n",
        "\n",
        "# Train Linear Regression\n",
        "lr_model = LinearRegressionScratch(learning_rate=0.01, n_iters=1000)\n",
        "lr_model.fit(X_train.values, y_train.values)\n",
        "y_pred_lr = lr_model.predict(X_test.values)\n"
      ],
      "metadata": {
        "id": "l4sva4HMBaLh"
      },
      "execution_count": 13,
      "outputs": []
    },
    {
      "cell_type": "code",
      "source": [
        "class DecisionTree:\n",
        "    def __init__(self, max_depth=10, min_samples_split=2):\n",
        "        self.max_depth = max_depth\n",
        "        self.min_samples_split = min_samples_split\n",
        "        self.tree = None\n",
        "\n",
        "    def fit(self, X, y):\n",
        "        self.tree = self._grow_tree(X, y)\n",
        "\n",
        "    def _grow_tree(self, X, y, depth=0):\n",
        "        n_samples, n_features = X.shape\n",
        "        if depth >= self.max_depth or n_samples < self.min_samples_split:\n",
        "            return np.mean(y)\n",
        "\n",
        "        best_feat, best_thresh = self._best_split(X, y)\n",
        "        if best_feat is None:\n",
        "            return np.mean(y)\n",
        "\n",
        "        left_idx = X[:, best_feat] <= best_thresh\n",
        "        right_idx = X[:, best_feat] > best_thresh\n",
        "\n",
        "        left_subtree = self._grow_tree(X[left_idx], y[left_idx], depth + 1)\n",
        "        right_subtree = self._grow_tree(X[right_idx], y[right_idx], depth + 1)\n",
        "\n",
        "        return (best_feat, best_thresh, left_subtree, right_subtree)\n",
        "\n",
        "    def _best_split(self, X, y):\n",
        "        best_mse = float('inf')\n",
        "        best_feat, best_thresh = None, None\n",
        "\n",
        "        for feat in range(X.shape[1]):\n",
        "            thresholds = np.unique(X[:, feat])\n",
        "            for thresh in thresholds:\n",
        "                left_idx = X[:, feat] <= thresh\n",
        "                right_idx = X[:, feat] > thresh\n",
        "                if len(left_idx) == 0 or len(right_idx) == 0:\n",
        "                    continue\n",
        "\n",
        "                left_mse = np.var(y[left_idx])\n",
        "                right_mse = np.var(y[right_idx])\n",
        "                mse = (left_mse * len(left_idx) + right_mse * len(right_idx)) / len(y)\n",
        "\n",
        "                if mse < best_mse:\n",
        "                    best_mse = mse\n",
        "                    best_feat = feat\n",
        "                    best_thresh = thresh\n",
        "        return best_feat, best_thresh\n",
        "\n",
        "    def predict(self, X):\n",
        "        return np.array([self._predict_one(sample) for sample in X])\n",
        "\n",
        "    def _predict_one(self, sample):\n",
        "        node = self.tree\n",
        "        while isinstance(node, tuple):\n",
        "            feat, thresh, left, right = node\n",
        "            if sample[feat] <= thresh:\n",
        "                node = left\n",
        "            else:\n",
        "                node = right\n",
        "        return node\n",
        "\n",
        "# Train Random Forest\n",
        "rf_model = DecisionTree(max_depth=5)\n",
        "rf_model.fit(X_train.values, y_train.values)\n",
        "y_pred_rf = rf_model.predict(X_test.values)\n"
      ],
      "metadata": {
        "colab": {
          "base_uri": "https://localhost:8080/"
        },
        "id": "CNUF7T50Bxqp",
        "outputId": "1a38494b-b0c6-4b25-a486-ed9b5c2748ce"
      },
      "execution_count": 15,
      "outputs": [
        {
          "output_type": "stream",
          "name": "stderr",
          "text": [
            "/usr/local/lib/python3.11/dist-packages/numpy/_core/fromnumeric.py:4008: RuntimeWarning: Degrees of freedom <= 0 for slice\n",
            "  return _methods._var(a, axis=axis, dtype=dtype, out=out, ddof=ddof,\n",
            "/usr/local/lib/python3.11/dist-packages/numpy/_core/_methods.py:175: RuntimeWarning: invalid value encountered in divide\n",
            "  arrmean = um.true_divide(arrmean, div, out=arrmean,\n",
            "/usr/local/lib/python3.11/dist-packages/numpy/_core/_methods.py:210: RuntimeWarning: invalid value encountered in scalar divide\n",
            "  ret = ret.dtype.type(ret / rcount)\n"
          ]
        }
      ]
    },
    {
      "cell_type": "code",
      "source": [
        "class GradientBoosting:\n",
        "    def __init__(self, n_estimators=100, learning_rate=0.1):\n",
        "        self.n_estimators = n_estimators\n",
        "        self.learning_rate = learning_rate\n",
        "        self.trees = []\n",
        "\n",
        "    def fit(self, X, y):\n",
        "        residual = y\n",
        "        for _ in range(self.n_estimators):\n",
        "            tree = DecisionTree(max_depth=3)\n",
        "            tree.fit(X, residual)\n",
        "            self.trees.append(tree)\n",
        "            prediction = tree.predict(X)\n",
        "            residual -= self.learning_rate * prediction\n",
        "\n",
        "    def predict(self, X):\n",
        "        pred = sum(self.learning_rate * tree.predict(X) for tree in self.trees)\n",
        "        return pred\n",
        "\n",
        "# Train XGBoost\n",
        "xgb_model = GradientBoosting(n_estimators=50, learning_rate=0.1)\n",
        "xgb_model.fit(X_train.values, y_train.values)\n",
        "y_pred_xgb = xgb_model.predict(X_test.values)\n"
      ],
      "metadata": {
        "id": "6lka8NSKB3Io"
      },
      "execution_count": 16,
      "outputs": []
    },
    {
      "cell_type": "code",
      "source": [
        "from sklearn.metrics import mean_squared_error, r2_score\n",
        "\n",
        "def evaluate(y_test, y_pred, model_name):\n",
        "    rmse = np.sqrt(mean_squared_error(y_test, y_pred))\n",
        "    r2 = r2_score(y_test, y_pred)\n",
        "    print(f\"\\n{model_name} Performance:\")\n",
        "    print(f\"RMSE: {rmse:.4f}\")\n",
        "    print(f\"R²: {r2:.4f}\")\n",
        "\n",
        "evaluate(y_test, y_pred_lr, \"Linear Regression\")\n",
        "evaluate(y_test, y_pred_rf, \"Random Forest\")\n",
        "evaluate(y_test, y_pred_xgb, \"XGBoost\")"
      ],
      "metadata": {
        "colab": {
          "base_uri": "https://localhost:8080/"
        },
        "id": "6lBQ-OFtBmne",
        "outputId": "ce951f50-08f2-4441-ce92-d0525e08f43a"
      },
      "execution_count": 17,
      "outputs": [
        {
          "output_type": "stream",
          "name": "stdout",
          "text": [
            "\n",
            "Linear Regression Performance:\n",
            "RMSE: 0.1357\n",
            "R²: 0.4917\n",
            "\n",
            "Random Forest Performance:\n",
            "RMSE: 0.1916\n",
            "R²: -0.0134\n",
            "\n",
            "XGBoost Performance:\n",
            "RMSE: 0.1901\n",
            "R²: 0.0016\n"
          ]
        }
      ]
    },
    {
      "cell_type": "code",
      "source": [
        "importance = pd.Series(rf_model.tree[0], index=X_train.columns)\n",
        "importance.sort_values(ascending=False).plot(kind='bar', figsize=(10, 5))\n",
        "plt.title(\"Feature Importance - Random Forest\")\n",
        "plt.show()\n"
      ],
      "metadata": {
        "colab": {
          "base_uri": "https://localhost:8080/",
          "height": 511
        },
        "id": "xTkBu7MfBsjE",
        "outputId": "71b51104-2b8b-4b84-b8c4-5b5277482b0f"
      },
      "execution_count": 18,
      "outputs": [
        {
          "output_type": "display_data",
          "data": {
            "text/plain": [
              "<Figure size 1000x500 with 1 Axes>"
            ],
            "image/png": "[encoded data removed]"
          },
          "metadata": {}
        }
      ]
    },
    {
      "cell_type": "code",
      "source": [],
      "metadata": {
        "id": "7wf9G35zCASH"
      },
      "execution_count": null,
      "outputs": []
    }
  ]
}